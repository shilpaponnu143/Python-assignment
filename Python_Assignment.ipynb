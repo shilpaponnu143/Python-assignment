{
 "cells": [
  {
   "cell_type": "markdown",
   "id": "fc7eb868",
   "metadata": {},
   "source": [
    "# 1. Check if the given string is a palindrome or not irrespective of case"
   ]
  },
  {
   "cell_type": "code",
   "execution_count": 13,
   "id": "ebaa0cb4",
   "metadata": {},
   "outputs": [
    {
     "name": "stdout",
     "output_type": "stream",
     "text": [
      "Enter the string: Naan\n",
      "Naan is a palindrome\n"
     ]
    }
   ],
   "source": [
    "String1=input('Enter the string: ')\n",
    "String2=String1.lower()\n",
    "flag=0\n",
    "n=len(String2)\n",
    "for i in range(n):\n",
    "    if String2[i]==String2[(n-i-1)]:\n",
    "        flag=1\n",
    "    else:\n",
    "        flag=0\n",
    "        break\n",
    "if flag==1:\n",
    "    print(String1,'is a palindrome')\n",
    "else:\n",
    "    print(String1,'is not a palindrome')\n",
    "    \n"
   ]
  },
  {
   "cell_type": "markdown",
   "id": "fb01690b",
   "metadata": {},
   "source": [
    "# 2. The user enters a string and a substring. You have to print the number of times that the substring occurs in the given string. String traversal will take place from left to right, not from right to left."
   ]
  },
  {
   "cell_type": "code",
   "execution_count": 16,
   "id": "5839ca32",
   "metadata": {},
   "outputs": [
    {
     "name": "stdout",
     "output_type": "stream",
     "text": [
      "Enter the string: ABCBCABCABC1\n",
      "Enter the sub_string: BC\n",
      "No of times BC occurs in ABCBCABCABC1 is:  4\n"
     ]
    }
   ],
   "source": [
    "String=input('Enter the string: ')\n",
    "Sub_string=input('Enter the sub_string: ')\n",
    "count=0\n",
    "for i in range(len(String)-len(Sub_string)+1):\n",
    "    if String[i:i+len(Sub_string)]==Sub_string:\n",
    "        count=count+1\n",
    "print('No of times',Sub_string,'occurs in',String ,'is: ',count)"
   ]
  },
  {
   "cell_type": "markdown",
   "id": "4d41562b",
   "metadata": {},
   "source": [
    "# 3. Create a basic rock paper scissors game."
   ]
  },
  {
   "cell_type": "code",
   "execution_count": 19,
   "id": "05aaf4f5",
   "metadata": {},
   "outputs": [
    {
     "name": "stdout",
     "output_type": "stream",
     "text": [
      "Select rock,paper or scissor: rock\n",
      "1 . Player1:  rock\n",
      "Player2:  paper\n",
      "paper (player2) wins. Current score: 0 - 1\n",
      "Select rock,paper or scissor: rock\n",
      "2 . Player1:  rock\n",
      "Player2:  scissor\n",
      "rock (player1) wins. Current score: 1 - 1\n",
      "Select rock,paper or scissor: scissor\n",
      "3 . Player1:  scissor\n",
      "Player2:  scissor\n",
      "Draw\n",
      "Select rock,paper or scissor: paper\n",
      "4 . Player1:  paper\n",
      "Player2:  paper\n",
      "Draw\n",
      "Select rock,paper or scissor: rock\n",
      "5 . Player1:  rock\n",
      "Player2:  scissor\n",
      "rock (player1) wins. Current score: 2 - 1\n",
      "Select rock,paper or scissor: scissor\n",
      "6 . Player1:  scissor\n",
      "Player2:  paper\n",
      "scissor (player1) wins. Current score: 3 - 1\n",
      "Select rock,paper or scissor: paper\n",
      "7 . Player1:  paper\n",
      "Player2:  scissor\n",
      "scissor (player2) wins. Current score: 3 - 2\n",
      "Select rock,paper or scissor: scissor\n",
      "8 . Player1:  scissor\n",
      "Player2:  paper\n",
      "scissor (player1) wins. Current score: 4 - 2\n",
      "Select rock,paper or scissor: paper\n",
      "9 . Player1:  paper\n",
      "Player2:  scissor\n",
      "scissor (player2) wins. Current score: 4 - 3\n",
      "Select rock,paper or scissor: scissor\n",
      "10 . Player1:  scissor\n",
      "Player2:  paper\n",
      "scissor (player1) wins. Current score: 5 - 3\n",
      "Player1_count:  5\n",
      "Player2_count:  3\n",
      "Draw_count:  2\n",
      "Final winner is: Player1\n"
     ]
    }
   ],
   "source": [
    "import random\n",
    "max=0\n",
    "Player1_count=0\n",
    "Player2_count=0\n",
    "Draw_count=0\n",
    "for i in range(1,11):\n",
    "    Player1=input('Select rock,paper or scissor: ')\n",
    "    print(i,'. Player1: ',Player1)\n",
    "    Player2=random.choice(['rock','paper','scissor'])\n",
    "    print('Player2: ',Player2)\n",
    "    if Player1=='scissor'and Player2=='rock':\n",
    "        Player2_count=Player2_count+1\n",
    "        print(Player2,'(player2) wins. Current score:',Player1_count,'-',Player2_count)\n",
    "    elif Player1=='rock'and Player2=='paper':\n",
    "        Player2_count=Player2_count+1\n",
    "        print(Player2,'(player2) wins. Current score:',Player1_count,'-',Player2_count)\n",
    "    elif Player1=='paper'and Player2=='scissor':\n",
    "        Player2_count=Player2_count+1\n",
    "        print(Player2,'(player2) wins. Current score:',Player1_count,'-',Player2_count)     \n",
    "    elif Player1==Player2:\n",
    "        print('Draw')\n",
    "        Draw_count=Draw_count+1\n",
    "    else:\n",
    "        Player1_count=Player1_count+1\n",
    "        print(Player1,'(player1) wins. Current score:',Player1_count,'-',Player2_count)\n",
    "        \n",
    "print('Player1_count: ',Player1_count)\n",
    "print('Player2_count: ',Player2_count)\n",
    "print('Draw_count: ',Draw_count)\n",
    "if Player1_count>Player2_count:\n",
    "    print('Final winner is: Player1')\n",
    "elif Player1_count<Player2_count:\n",
    "    print('Final winner is: Player2')\n",
    "else:\n",
    "    print('Tie Game')\n",
    "    "
   ]
  },
  {
   "cell_type": "markdown",
   "id": "6ae4359d",
   "metadata": {},
   "source": [
    "# 4. The below API print the price of Bitcoin in USD and GBP"
   ]
  },
  {
   "cell_type": "code",
   "execution_count": 89,
   "id": "a2602221",
   "metadata": {},
   "outputs": [],
   "source": [
    "import requests\n",
    "import time\n",
    "USD=[]\n",
    "GBP=[]\n",
    "temp=0\n",
    "\n",
    "\n",
    "for i in range(288):\n",
    "    #print('Datapoint ',i)\n",
    "    response=requests.get('https://api.coindesk.com/v1/bpi/currentprice.json')\n",
    "    data=response.json()\n",
    "    usd_data = data['bpi']['USD']['rate'].replace(',',\"\")\n",
    "    gbp_data = data['bpi']['GBP']['rate'].replace(',',\"\")\n",
    "    if i > 0:\n",
    "        while (usd_data == USD[-1] or gbp_data == GBP[-1]):\n",
    "            print('Same value - retaking data')\n",
    "            time.sleep(300)\n",
    "            response=requests.get('https://api.coindesk.com/v1/bpi/currentprice.json')\n",
    "            data=response.json()\n",
    "            usd_data = data['bpi']['USD']['rate']\n",
    "            gbp_data = data['bpi']['GBP']['rate']\n",
    "    USD.append(usd_data)\n",
    "    GBP.append(gbp_data)\n",
    "    time.sleep(300) # 5 minutes\n"
   ]
  },
  {
   "cell_type": "code",
   "execution_count": 88,
   "id": "5010d497",
   "metadata": {},
   "outputs": [
    {
     "name": "stdout",
     "output_type": "stream",
     "text": [
      "USD : Max =  21050.3157  ; Min =  20585.7981\n",
      "GBP : Max =  17589.4754  ; Min =  17201.3282\n"
     ]
    }
   ],
   "source": [
    "USD = np.array(USD,dtype='float')\n",
    "GBP = np.array(GBP,dtype='float')\n",
    "\n",
    "max_USD = -10000000000\n",
    "min_USD = 10000000000\n",
    "max_GBP = -10000000000\n",
    "min_GBP = 10000000000\n",
    "for i in range(len(USD)):\n",
    "    if USD[i] > max_USD:\n",
    "        max_USD = USD[i]\n",
    "    if USD[i] < min_USD:\n",
    "        min_USD = USD[i]    \n",
    "    if GBP[i] > max_GBP:\n",
    "        max_GBP = GBP[i]\n",
    "    if GBP[i] < min_GBP:\n",
    "        min_GBP = GBP[i]   \n",
    "        \n",
    "print('USD : Max = ', max_USD, ' ; Min = ',min_USD)\n",
    "print('GBP : Max = ', max_GBP, ' ; Min = ',min_GBP)"
   ]
  },
  {
   "cell_type": "code",
   "execution_count": null,
   "id": "eb41a12f",
   "metadata": {},
   "outputs": [],
   "source": []
  }
 ],
 "metadata": {
  "kernelspec": {
   "display_name": "Python 3 (ipykernel)",
   "language": "python",
   "name": "python3"
  },
  "language_info": {
   "codemirror_mode": {
    "name": "ipython",
    "version": 3
   },
   "file_extension": ".py",
   "mimetype": "text/x-python",
   "name": "python",
   "nbconvert_exporter": "python",
   "pygments_lexer": "ipython3",
   "version": "3.9.7"
  }
 },
 "nbformat": 4,
 "nbformat_minor": 5
}
